{
 "cells": [
  {
   "cell_type": "markdown",
   "id": "d6a3eb1b",
   "metadata": {},
   "source": [
    "## 2309. 일곱 난쟁이"
   ]
  },
  {
   "cell_type": "code",
   "execution_count": 5,
   "id": "0fbc141d",
   "metadata": {},
   "outputs": [
    {
     "name": "stdout",
     "output_type": "stream",
     "text": [
      "20\n",
      "7\n",
      "23\n",
      "19\n",
      "10\n",
      "15\n",
      "25\n",
      "8\n",
      "13\n"
     ]
    }
   ],
   "source": [
    "dwarfs = [int(input()) for _ in range(9)]"
   ]
  },
  {
   "cell_type": "code",
   "execution_count": 3,
   "id": "4799fd06",
   "metadata": {},
   "outputs": [],
   "source": [
    "dwarfs.sort()\n",
    "cnt = sum(dwarfs)\n",
    "num_1 = 0\n",
    "num_2 = 0\n",
    "\n",
    "for i in range(9):\n",
    "    for j in range(i+1, 9):  \n",
    "        if cnt - (dwarfs[i] + dwarfs[j]) == 100:\n",
    "            num_1, num_2 = dwarfs[i], dwarfs[j]\n",
    "            \n",
    "            break\n",
    "\n",
    "dwarfs.remove(num_1)\n",
    "dwarfs.remove(num_2)"
   ]
  },
  {
   "cell_type": "code",
   "execution_count": 4,
   "id": "b3e29977",
   "metadata": {},
   "outputs": [
    {
     "name": "stdout",
     "output_type": "stream",
     "text": [
      "7\n",
      "8\n",
      "10\n",
      "13\n",
      "19\n",
      "20\n",
      "23\n"
     ]
    }
   ],
   "source": [
    "for dwarf in dwarfs:            \n",
    "    print(dwarf)"
   ]
  },
  {
   "cell_type": "code",
   "execution_count": null,
   "id": "33c90135",
   "metadata": {},
   "outputs": [],
   "source": []
  },
  {
   "cell_type": "code",
   "execution_count": null,
   "id": "e418ba91",
   "metadata": {},
   "outputs": [],
   "source": []
  },
  {
   "cell_type": "code",
   "execution_count": null,
   "id": "1e263538",
   "metadata": {},
   "outputs": [],
   "source": []
  },
  {
   "cell_type": "code",
   "execution_count": null,
   "id": "151bc130",
   "metadata": {},
   "outputs": [],
   "source": []
  }
 ],
 "metadata": {
  "kernelspec": {
   "display_name": "Python 3 (ipykernel)",
   "language": "python",
   "name": "python3"
  },
  "language_info": {
   "codemirror_mode": {
    "name": "ipython",
    "version": 3
   },
   "file_extension": ".py",
   "mimetype": "text/x-python",
   "name": "python",
   "nbconvert_exporter": "python",
   "pygments_lexer": "ipython3",
   "version": "3.9.9"
  },
  "toc": {
   "base_numbering": 1,
   "nav_menu": {},
   "number_sections": true,
   "sideBar": true,
   "skip_h1_title": false,
   "title_cell": "Table of Contents",
   "title_sidebar": "Contents",
   "toc_cell": false,
   "toc_position": {},
   "toc_section_display": true,
   "toc_window_display": false
  }
 },
 "nbformat": 4,
 "nbformat_minor": 5
}
