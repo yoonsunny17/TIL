{
 "cells": [
  {
   "cell_type": "code",
   "execution_count": 1,
   "id": "102c9481",
   "metadata": {
    "scrolled": true
   },
   "outputs": [
    {
     "name": "stdout",
     "output_type": "stream",
     "text": [
      "9 25\n"
     ]
    }
   ],
   "source": [
    "H, M = input().split()\n",
    "H = int(H)\n",
    "M = int(M)"
   ]
  },
  {
   "cell_type": "code",
   "execution_count": 2,
   "id": "65a558f6",
   "metadata": {},
   "outputs": [],
   "source": [
    "# 0 <= H <= 23, 0 <= M <= 59\n",
    "# 입력이 현재 상근이 알람시계 설정이고, 출력이 -45M임"
   ]
  },
  {
   "cell_type": "code",
   "execution_count": 3,
   "id": "cca80b1c",
   "metadata": {},
   "outputs": [],
   "source": [
    "if 0 <= M < 45:\n",
    "    if H != 0:\n",
    "        H -= 1\n",
    "        M += 15\n",
    "    else:\n",
    "        H += 23\n",
    "        M += 15\n",
    "\n",
    "else:\n",
    "    M -= 45"
   ]
  },
  {
   "cell_type": "code",
   "execution_count": 4,
   "id": "dab294a8",
   "metadata": {},
   "outputs": [
    {
     "name": "stdout",
     "output_type": "stream",
     "text": [
      "8 40\n"
     ]
    }
   ],
   "source": [
    "print(H, M)"
   ]
  }
 ],
 "metadata": {
  "kernelspec": {
   "display_name": "Python 3 (ipykernel)",
   "language": "python",
   "name": "python3"
  },
  "language_info": {
   "codemirror_mode": {
    "name": "ipython",
    "version": 3
   },
   "file_extension": ".py",
   "mimetype": "text/x-python",
   "name": "python",
   "nbconvert_exporter": "python",
   "pygments_lexer": "ipython3",
   "version": "3.9.9"
  },
  "toc": {
   "base_numbering": 1,
   "nav_menu": {},
   "number_sections": true,
   "sideBar": true,
   "skip_h1_title": false,
   "title_cell": "Table of Contents",
   "title_sidebar": "Contents",
   "toc_cell": false,
   "toc_position": {},
   "toc_section_display": true,
   "toc_window_display": false
  }
 },
 "nbformat": 4,
 "nbformat_minor": 5
}
